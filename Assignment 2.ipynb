{
 "cells": [
  {
   "cell_type": "markdown",
   "id": "aa2536db-6dc2-458f-a429-9274a1168b04",
   "metadata": {},
   "source": [
    "Q1. How do you comment code in Python? What are the different types of comments?"
   ]
  },
  {
   "cell_type": "code",
   "execution_count": null,
   "id": "07dd7c07-df10-4374-852e-4ab7e22e60d8",
   "metadata": {},
   "outputs": [],
   "source": [
    "BEFORE THE ANY CODE TYPE  \"#\" THEN OUR CODE IS CONVERTED INTO A COMMENTS.\n",
    "THEN THIS CODE IS WORKING AS A COMMENTS.\n",
    "TYPES OF COMMENTS : SINGLE LINE COMMENTS,MULTI LINE COMMENTS\n",
    "EX # a = \"Hello world\"\n",
    "# b = \"Datascience is one of the most popular field\""
   ]
  },
  {
   "cell_type": "markdown",
   "id": "d406d50f-ffec-4e9a-bb5c-8fb6f32fd4fe",
   "metadata": {},
   "source": [
    "Q2. What are variables in Python? How do you declare and assign values to variables?"
   ]
  },
  {
   "cell_type": "code",
   "execution_count": null,
   "id": "16cac3b0-222d-4f0e-8241-14068b8d5657",
   "metadata": {},
   "outputs": [],
   "source": [
    "VARIABLE IS USED FOR A ASSIGNING THE CODE.\n",
    "EX\n",
    "a = \"NOTHING IS IMPOSSIBLE\" \n",
    "IN A ABOVE EXAMPLE a IS A VARIABLE.\n",
    "YOU CAN TAKE ANY ALPHABATE INSTEAD OF a VARIABLE."
   ]
  },
  {
   "cell_type": "markdown",
   "id": "7ef631ce-3b63-4934-9482-ff087d5b246c",
   "metadata": {},
   "source": [
    "Q3. How do you convert one data type to another in Python?"
   ]
  },
  {
   "cell_type": "code",
   "execution_count": 18,
   "id": "5b55607b-5004-4929-85a8-031d6441aaae",
   "metadata": {},
   "outputs": [],
   "source": [
    "a = \"90\""
   ]
  },
  {
   "cell_type": "code",
   "execution_count": 19,
   "id": "6e9effb7-2be4-4f79-95d9-6115b6dfdf1d",
   "metadata": {},
   "outputs": [
    {
     "data": {
      "text/plain": [
       "str"
      ]
     },
     "execution_count": 19,
     "metadata": {},
     "output_type": "execute_result"
    }
   ],
   "source": [
    "type(a)"
   ]
  },
  {
   "cell_type": "code",
   "execution_count": 21,
   "id": "210507bb-98e9-4486-b76b-441d7be0e604",
   "metadata": {},
   "outputs": [],
   "source": [
    "b = int(a)"
   ]
  },
  {
   "cell_type": "code",
   "execution_count": 22,
   "id": "bd777604-d9d0-4480-b621-b109d2fc6854",
   "metadata": {},
   "outputs": [
    {
     "data": {
      "text/plain": [
       "int"
      ]
     },
     "execution_count": 22,
     "metadata": {},
     "output_type": "execute_result"
    }
   ],
   "source": [
    "type(b)"
   ]
  },
  {
   "cell_type": "code",
   "execution_count": null,
   "id": "22d60f61-7fb8-4f3a-99a9-582172edd065",
   "metadata": {},
   "outputs": [],
   "source": [
    "EXPLANATION : convert \"90\" type <class 'str'> to 90 type <class 'int'>"
   ]
  },
  {
   "cell_type": "markdown",
   "id": "3960064c-c886-41ae-8f66-a2acd42cbefb",
   "metadata": {},
   "source": [
    "Q4. How do you write and execute a Python script from the command line?"
   ]
  },
  {
   "cell_type": "code",
   "execution_count": null,
   "id": "9ad6e2c8-c7de-4ccd-9662-b7be75aa54ec",
   "metadata": {},
   "outputs": [],
   "source": [
    "TAKE A ANY VARIABLE IN COMMAND LINE & TAKE A ANY DATA TYPES IN VARIABLE SUPPOSE WE TAKE A STRING.\n",
    "THEN TYPE A CTRL ENTER THEN AUTOMATICALLY EXECUTE A PYTHON SCRIPT.\n",
    "FOR Eg.\n",
    "m = \"Hello world\""
   ]
  },
  {
   "cell_type": "code",
   "execution_count": 27,
   "id": "0cc78f68-0bbd-466d-af2e-5d3b911f8980",
   "metadata": {},
   "outputs": [],
   "source": [
    "m = \"Hello world\""
   ]
  },
  {
   "cell_type": "code",
   "execution_count": 28,
   "id": "9c37750a-216f-44bd-9e39-3afc029c983a",
   "metadata": {},
   "outputs": [
    {
     "name": "stdout",
     "output_type": "stream",
     "text": [
      "Hello world\n"
     ]
    }
   ],
   "source": [
    "print(m)"
   ]
  },
  {
   "cell_type": "markdown",
   "id": "f9cf82a6-dc0a-4035-8555-49380646e1a4",
   "metadata": {},
   "source": [
    "Q5. Given a list my_list = [1, 2, 3, 4, 5], write the code to slice the list and obtain the sub-list [2, 3]."
   ]
  },
  {
   "cell_type": "code",
   "execution_count": 38,
   "id": "1caed7bf-3e87-4bd1-b553-d6d5e59319c9",
   "metadata": {},
   "outputs": [],
   "source": [
    "my_list = [1, 2, 3, 4, 5]"
   ]
  },
  {
   "cell_type": "code",
   "execution_count": 41,
   "id": "1fd9e45b-4021-4d51-bc03-966cffd7f59f",
   "metadata": {},
   "outputs": [],
   "source": [
    "sub_list = my_list[1:3]"
   ]
  },
  {
   "cell_type": "code",
   "execution_count": 42,
   "id": "963ac4b8-1bd8-485f-9cc7-3974e77d3735",
   "metadata": {},
   "outputs": [
    {
     "data": {
      "text/plain": [
       "[2, 3]"
      ]
     },
     "execution_count": 42,
     "metadata": {},
     "output_type": "execute_result"
    }
   ],
   "source": [
    "sub_list"
   ]
  },
  {
   "cell_type": "markdown",
   "id": "d2fa7bdd-382b-4926-ab97-9d572a0284ed",
   "metadata": {},
   "source": [
    " Q6.What is a complex number in mathematics, and how is it represented in Python?"
   ]
  },
  {
   "cell_type": "code",
   "execution_count": null,
   "id": "33afb7a2-9943-4109-b3c4-56d4ce8e5a5f",
   "metadata": {},
   "outputs": [],
   "source": [
    "COMPLEX NUMBER IS CONTANING REAL VALUE AND IMAJINARY VALUE.\n",
    "IN MATHEMATICS COMPLEX NUMBER CAN BE WRITEN AS  2+4i\n",
    "BUT IN PYTHON INSTEAD OF \"i\" WE USE \"J\".\n",
    "Eg, 5+7j\n",
    "5 IS A REAL PART AND 7J IS A IMAJINARY PART IN COMPLEX NUMBERS."
   ]
  },
  {
   "cell_type": "markdown",
   "id": "d4baff96-89f2-4b06-880d-9d66b6f5df09",
   "metadata": {},
   "source": [
    "Q7. What is the correct way to declare a variable named age and assign the value 25 to it?"
   ]
  },
  {
   "cell_type": "code",
   "execution_count": 44,
   "id": "b2cd7895-cb81-4680-8459-363f1e26be61",
   "metadata": {},
   "outputs": [],
   "source": [
    "age = 25"
   ]
  },
  {
   "cell_type": "code",
   "execution_count": 49,
   "id": "b7df71a9-cdfa-43f6-8679-11c2bf4fc721",
   "metadata": {},
   "outputs": [
    {
     "name": "stdout",
     "output_type": "stream",
     "text": [
      "25\n"
     ]
    }
   ],
   "source": [
    "print(age)"
   ]
  },
  {
   "cell_type": "markdown",
   "id": "256fde60-01d3-4e70-afa5-d2ec9116e67c",
   "metadata": {},
   "source": [
    "Q8. Declare a variable named price and assign the value 9.99 to it. What data type does this variable\n",
    "belong to?"
   ]
  },
  {
   "cell_type": "code",
   "execution_count": 48,
   "id": "7eaec658-813b-4650-93d5-246df8ed1e42",
   "metadata": {},
   "outputs": [],
   "source": [
    "price = 9.99"
   ]
  },
  {
   "cell_type": "code",
   "execution_count": 50,
   "id": "aae3c66c-4f1e-4b01-a40b-22e085b2a69d",
   "metadata": {},
   "outputs": [
    {
     "name": "stdout",
     "output_type": "stream",
     "text": [
      "9.99\n"
     ]
    }
   ],
   "source": [
    "print(price)"
   ]
  },
  {
   "cell_type": "code",
   "execution_count": 52,
   "id": "2de99346-b2c8-41a3-a9d4-6b50f1621ba7",
   "metadata": {},
   "outputs": [
    {
     "data": {
      "text/plain": [
       "float"
      ]
     },
     "execution_count": 52,
     "metadata": {},
     "output_type": "execute_result"
    }
   ],
   "source": [
    "type(price)"
   ]
  },
  {
   "cell_type": "markdown",
   "id": "5c7ed36e-cdaf-4be5-ba9f-761e3cbce9ae",
   "metadata": {},
   "source": [
    "Q9. Create a variable named name and assign your full name to it as a string. How would you print the\n",
    "value of this variable?"
   ]
  },
  {
   "cell_type": "code",
   "execution_count": 53,
   "id": "2ce3ee9f-466b-4636-92fe-092b34a4d882",
   "metadata": {},
   "outputs": [],
   "source": [
    "name = \"Rohit Kamlakar Shewale\""
   ]
  },
  {
   "cell_type": "code",
   "execution_count": 54,
   "id": "5b369a6c-6dd1-46b9-a63b-a7042aa92295",
   "metadata": {},
   "outputs": [
    {
     "name": "stdout",
     "output_type": "stream",
     "text": [
      "Rohit Kamlakar Shewale\n"
     ]
    }
   ],
   "source": [
    "print(name)"
   ]
  },
  {
   "cell_type": "markdown",
   "id": "1a41bcf7-a67e-492e-97e5-0f309e3234ee",
   "metadata": {},
   "source": [
    "Q10. Given the string \"Hello, World!\", extract the substring \"World\"."
   ]
  },
  {
   "cell_type": "code",
   "execution_count": 1,
   "id": "3f339404-24b2-4076-9af7-a00f9fe29fbc",
   "metadata": {},
   "outputs": [],
   "source": [
    "a = \"Hello, World!\""
   ]
  },
  {
   "cell_type": "code",
   "execution_count": 5,
   "id": "e037939f-4419-4cc9-926c-30c6ea4a6f98",
   "metadata": {},
   "outputs": [],
   "source": [
    "substring =a[7:12]"
   ]
  },
  {
   "cell_type": "code",
   "execution_count": 7,
   "id": "30cfd6e1-baa4-42e9-ada0-6d4c0d7ad34f",
   "metadata": {},
   "outputs": [
    {
     "data": {
      "text/plain": [
       "'World'"
      ]
     },
     "execution_count": 7,
     "metadata": {},
     "output_type": "execute_result"
    }
   ],
   "source": [
    "substring"
   ]
  },
  {
   "cell_type": "markdown",
   "id": "50c0a4c5-c245-4999-a0ec-15a380a74ccf",
   "metadata": {},
   "source": [
    "Q11. Create a variable named \"is_student\" and assign it a boolean value indicating whether you are\n",
    "currently a student or not."
   ]
  },
  {
   "cell_type": "code",
   "execution_count": 10,
   "id": "39cbe93f-afca-44f3-9600-7fabd974c04c",
   "metadata": {},
   "outputs": [],
   "source": [
    "a = \"is_student\""
   ]
  },
  {
   "cell_type": "code",
   "execution_count": 15,
   "id": "8475b954-deb9-4f6c-a119-37464673de59",
   "metadata": {},
   "outputs": [],
   "source": [
    "is_student = True"
   ]
  },
  {
   "cell_type": "code",
   "execution_count": 13,
   "id": "de3b9043-1273-4055-85d5-ee35e61472a3",
   "metadata": {},
   "outputs": [
    {
     "data": {
      "text/plain": [
       "bool"
      ]
     },
     "execution_count": 13,
     "metadata": {},
     "output_type": "execute_result"
    }
   ],
   "source": [
    "type(is_student)"
   ]
  },
  {
   "cell_type": "code",
   "execution_count": null,
   "id": "0ed28100-eb42-4b50-9f0c-cd8429cf2f97",
   "metadata": {},
   "outputs": [],
   "source": []
  },
  {
   "cell_type": "code",
   "execution_count": null,
   "id": "0890c180-1031-43d5-9804-3ad4c3ad537a",
   "metadata": {},
   "outputs": [],
   "source": []
  }
 ],
 "metadata": {
  "kernelspec": {
   "display_name": "Python 3 (ipykernel)",
   "language": "python",
   "name": "python3"
  },
  "language_info": {
   "codemirror_mode": {
    "name": "ipython",
    "version": 3
   },
   "file_extension": ".py",
   "mimetype": "text/x-python",
   "name": "python",
   "nbconvert_exporter": "python",
   "pygments_lexer": "ipython3",
   "version": "3.10.8"
  }
 },
 "nbformat": 4,
 "nbformat_minor": 5
}
